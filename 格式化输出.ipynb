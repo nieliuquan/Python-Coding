{
 "cells": [
  {
   "cell_type": "markdown",
   "metadata": {},
   "source": [
    "格式符为真实值预留位置，并控制显示的格式。格式符可以包含有一个类型码，用以控制显示的类型\n",
    "\n",
    "%s    字符串 (采用str()的显示)\n",
    "\n",
    "%r    字符串 (采用repr()的显示)\n",
    "\n",
    "%c    单个字符\n",
    "\n",
    "%b    二进制整数\n",
    "\n",
    "%d    十进制整数\n",
    "\n",
    "%i    十进制整数\n",
    "\n",
    "%o    八进制整数\n",
    "\n",
    "%x    十六进制整数\n",
    "\n",
    "%e    指数 (基底写为e)\n",
    "\n",
    "%E    指数 (基底写为E)\n",
    "\n",
    "%f    浮点数\n",
    "\n",
    "%F    浮点数，与上相同\n",
    "\n",
    "%g    指数(e)或浮点数 (根据显示长度)\n",
    "\n",
    "%G    指数(E)或浮点数 (根据显示长度)\n"
   ]
  },
  {
   "cell_type": "code",
   "execution_count": 2,
   "metadata": {},
   "outputs": [
    {
     "name": "stdout",
     "output_type": "stream",
     "text": [
      "His name is Aviad\n"
     ]
    }
   ],
   "source": [
    "# %s 打印字符串\n",
    "print (\"His name is %s\"%(\"Aviad\"))"
   ]
  },
  {
   "cell_type": "code",
   "execution_count": 3,
   "metadata": {},
   "outputs": [
    {
     "name": "stdout",
     "output_type": "stream",
     "text": [
      "He is 25 years old\n"
     ]
    }
   ],
   "source": [
    "# %d打印十进制整数\n",
    "print (\"He is %d years old\"%(25))"
   ]
  },
  {
   "cell_type": "code",
   "execution_count": 5,
   "metadata": {},
   "outputs": [
    {
     "name": "stdout",
     "output_type": "stream",
     "text": [
      "His height is 1.830000 m\n",
      "His height is 1.83 m\n"
     ]
    }
   ],
   "source": [
    "# %f打印浮点数\n",
    "print (\"His height is %f m\"%(1.83))  # 默认6位小数\n",
    "print (\"His height is %.2f m\"%(1.83))  # 保留两位小数"
   ]
  },
  {
   "cell_type": "code",
   "execution_count": 12,
   "metadata": {},
   "outputs": [
    {
     "name": "stdout",
     "output_type": "stream",
     "text": [
      "Name:     Aviad Age:      25 Height:    1.83\n",
      "Name:Aviad      Age:25       Height:1.83    \n",
      "Name:Aviad      Age:00000025 Height:00001.83\n"
     ]
    }
   ],
   "source": [
    "# 指定占位符宽度\n",
    "print (\"Name:%10s Age:%8d Height:%8.2f\"%(\"Aviad\",25,1.83))\n",
    "print (\"Name:%-10s Age:%-8d Height:%-8.2f\"%(\"Aviad\",25,1.83))\n",
    "print (\"Name:%-10s Age:%08d Height:%08.2f\"%(\"Aviad\",25,1.83))"
   ]
  },
  {
   "cell_type": "code",
   "execution_count": 13,
   "metadata": {},
   "outputs": [
    {
     "data": {
      "text/plain": [
       "'1.50e-03'"
      ]
     },
     "execution_count": 13,
     "metadata": {},
     "output_type": "execute_result"
    }
   ],
   "source": [
    "# 科学计数法\n",
    "format(0.0015,'.2e')"
   ]
  },
  {
   "cell_type": "code",
   "execution_count": 24,
   "metadata": {},
   "outputs": [
    {
     "name": "stdout",
     "output_type": "stream",
     "text": [
      "I am hungry. I have 22 yuan.\n",
      "I am   hungry. I have       22 yuan.\n",
      "I am hungry  . I have 22       yuan.\n"
     ]
    }
   ],
   "source": [
    "# 用字典传递真实值\n",
    "print('I am %(c)s. I have %(l)d yuan.'  %{'c':'hungry', 'l':22})\n",
    "print('I am %(c)8s. I have %(l)8d yuan.'  %{'c':'hungry', 'l':22})\n",
    "print('I am %(c)-8s. I have %(l)-8d yuan.'  %{'c':'hungry', 'l':22})"
   ]
  }
 ],
 "metadata": {
  "kernelspec": {
   "display_name": "Python 3.8.12 ('machine_learning')",
   "language": "python",
   "name": "python3"
  },
  "language_info": {
   "codemirror_mode": {
    "name": "ipython",
    "version": 3
   },
   "file_extension": ".py",
   "mimetype": "text/x-python",
   "name": "python",
   "nbconvert_exporter": "python",
   "pygments_lexer": "ipython3",
   "version": "3.8.12"
  },
  "orig_nbformat": 4,
  "vscode": {
   "interpreter": {
    "hash": "694b3be8ef148e6406b0fa093ac035d51aa0a82bbb7177cd58aa727bb34b790d"
   }
  }
 },
 "nbformat": 4,
 "nbformat_minor": 2
}
