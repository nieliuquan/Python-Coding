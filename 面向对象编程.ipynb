{
 "cells": [
  {
   "cell_type": "markdown",
   "metadata": {},
   "source": [
    "第一小节：面向过程编程与面向对象编程的区别"
   ]
  },
  {
   "cell_type": "code",
   "execution_count": 1,
   "metadata": {},
   "outputs": [
    {
     "name": "stdout",
     "output_type": "stream",
     "text": [
      "#####面向过程编程#####\n",
      "Michael: 98\n",
      "Bob: 81\n",
      "#####面向对象编程#####\n",
      "Bart Simpson: 59\n",
      "Lisa Simpson: 87\n"
     ]
    }
   ],
   "source": [
    "print('#####面向过程编程#####')\n",
    "\n",
    "std1 = { 'name': 'Michael', 'score': 98 }\n",
    "std2 = { 'name': 'Bob', 'score': 81 }\n",
    "def print_score(std):\n",
    "    print('%s: %s' % (std['name'], std['score']))\n",
    "print_score(std1)\n",
    "print_score(std2)\n",
    "\n",
    "\n",
    "print('#####面向对象编程#####')\n",
    "\n",
    "class Student(object):\n",
    "\n",
    "    def __init__(self, name, score):\n",
    "        self.name = name\n",
    "        self.score = score\n",
    "\n",
    "    def print_score(self):\n",
    "        print('%s: %s' % (self.name, self.score))\n",
    "\n",
    "bart = Student('Bart Simpson', 59)  \n",
    "lisa = Student('Lisa Simpson', 87)\n",
    "\n",
    "bart.print_score(); lisa.print_score()  "
   ]
  },
  {
   "cell_type": "markdown",
   "metadata": {},
   "source": [
    "第二小节：类与实例"
   ]
  },
  {
   "cell_type": "markdown",
   "metadata": {},
   "source": [
    "(1) 创建类与实例"
   ]
  },
  {
   "cell_type": "code",
   "execution_count": 7,
   "metadata": {},
   "outputs": [
    {
     "name": "stdout",
     "output_type": "stream",
     "text": [
      "<__main__.Student object at 0x0000020D95404CA0>\n",
      "<class '__main__.Student'>\n"
     ]
    }
   ],
   "source": [
    "class Student(object):  # 创建类, 类名:Student; 继承类:obeject\n",
    "    pass\n",
    "bart = Student()  # 创建实例, 类名+()\n",
    "print(bart)  # 变量bart指向的就是一个Student的实例，后面的0x...是内存地址\n",
    "print(Student)  # Student本身是一个类"
   ]
  },
  {
   "cell_type": "markdown",
   "metadata": {},
   "source": [
    "(2) 为实例绑定属性"
   ]
  },
  {
   "cell_type": "code",
   "execution_count": 12,
   "metadata": {},
   "outputs": [
    {
     "name": "stdout",
     "output_type": "stream",
     "text": [
      "##### 第一种方法:直接为实例绑定属性 #####\n",
      "Bart Simpson\n",
      "59\n",
      "##### 第二种方法:利用__init__ #####\n",
      "Bart Simpson\n",
      "59\n"
     ]
    }
   ],
   "source": [
    "print('##### 第一种方法:直接为实例绑定属性 #####')\n",
    "class Student(object):\n",
    "    pass\n",
    "bart = Student()\n",
    "bart.name = 'Bart Simpson'\n",
    "bart.age = 59\n",
    "print(bart.name); print(bart.age)\n",
    "\n",
    "print('##### 第二种方法:利用__init__ #####')\n",
    "class Student(object):\n",
    "\n",
    "    def __init__(self, name, score):\n",
    "        self.name = name\n",
    "        self.score = score\n",
    "bart = Student('Bart Simpson', 59)\n",
    "print(bart.name); print(bart.score)"
   ]
  },
  {
   "cell_type": "markdown",
   "metadata": {},
   "source": [
    "(3) 数据封装"
   ]
  },
  {
   "cell_type": "code",
   "execution_count": 24,
   "metadata": {},
   "outputs": [
    {
     "name": "stdout",
     "output_type": "stream",
     "text": [
      "##### 外部函数访问数据 #####\n",
      "Bart: 59\n",
      "##### 类的方法(数据封装)  #####\n",
      "Bart Simpson: 59\n",
      "####### 更多数据封装的例子 #######\n",
      "Lisa A\n",
      "Bart C\n"
     ]
    }
   ],
   "source": [
    "print('##### 外部函数访问数据 #####')\n",
    "def print_score(std):\n",
    "    print('%s: %s' % (std.name, std.score))\n",
    "print_score(bart)\n",
    "\n",
    "\n",
    "print('##### 类的方法(数据封装)  #####')\n",
    "class Student(object):\n",
    "\n",
    "    def __init__(self, name, score):\n",
    "        self.name = name\n",
    "        self.score = score\n",
    "\n",
    "    def print_score(self):\n",
    "        print('%s: %s' % (self.name, self.score))\n",
    "bart = Student('Bart Simpson', 59)\n",
    "bart.print_score()\n",
    "\n",
    "\n",
    "print('####### 更多数据封装的例子 #######')\n",
    "class Student(object):\n",
    "\n",
    "    def __init__(self, name, score):\n",
    "        self.name = name\n",
    "        self.score = score\n",
    "\n",
    "    def print_score(self):\n",
    "        print('%s: %s' % (self.name, self.score))\n",
    "\n",
    "    def get_grade(self):\n",
    "        if self.score >= 90:\n",
    "            return 'A'\n",
    "        elif self.score >= 60:\n",
    "            return 'B'\n",
    "        else:\n",
    "            return 'C'\n",
    "lisa = Student('Lisa', 99)\n",
    "bart = Student('Bart', 59)\n",
    "print(lisa.name, lisa.get_grade())\n",
    "print(bart.name, bart.get_grade())"
   ]
  },
  {
   "cell_type": "markdown",
   "metadata": {},
   "source": [
    "第三小节: 访问限制"
   ]
  },
  {
   "cell_type": "markdown",
   "metadata": {},
   "source": [
    "(1) 如果不设置访问限制, 则外部函数可以直接修改实例的属性"
   ]
  },
  {
   "cell_type": "code",
   "execution_count": 35,
   "metadata": {},
   "outputs": [
    {
     "name": "stdout",
     "output_type": "stream",
     "text": [
      "修改前:      59\n",
      "修改后:      99\n"
     ]
    }
   ],
   "source": [
    "bart = Student('Bart Simpson', 59)\n",
    "print('修改前:%8s'%(bart.score))\n",
    "bart.score = 99\n",
    "print('修改后:%8s'%(bart.score))"
   ]
  },
  {
   "cell_type": "markdown",
   "metadata": {},
   "source": [
    "(2) 设置访问限制: 把属性的名称前加上两个下划线__, 从而变为私有属性, 不可以从外部访问"
   ]
  },
  {
   "cell_type": "code",
   "execution_count": 45,
   "metadata": {},
   "outputs": [
    {
     "name": "stdout",
     "output_type": "stream",
     "text": [
      "Bart Simpson: 59\n"
     ]
    }
   ],
   "source": [
    "class Student(object):\n",
    "\n",
    "    def __init__(self, name, score):\n",
    "        self.__name = name  # 加了两个下划线__, 是私有属性\n",
    "        self.__score = score\n",
    "\n",
    "    def print_score(self):\n",
    "        print('%s: %s' % (self.__name, self.__score))\n",
    "\n",
    "bart = Student('Bart Simpson', 59)\n",
    "\n",
    "# bart.__name  # 返回错误, 此时已经无法从外部访问实例变量.__name和实例变量.__score\n",
    "\n",
    "bart.print_score()"
   ]
  },
  {
   "cell_type": "markdown",
   "metadata": {},
   "source": [
    "(3) 在访问限制下用外部代码要获取name和score"
   ]
  },
  {
   "cell_type": "code",
   "execution_count": 44,
   "metadata": {},
   "outputs": [
    {
     "name": "stdout",
     "output_type": "stream",
     "text": [
      "Bart Simpson\n",
      "59\n"
     ]
    }
   ],
   "source": [
    "class Student(object):\n",
    "\n",
    "    def __init__(self, name, score):\n",
    "        self.__name = name\n",
    "        self.__score = score\n",
    "\n",
    "    def print_score(self):\n",
    "        print('%s: %s' % (self.__name, self.__score))\n",
    "\n",
    "    def get_name(self):\n",
    "        return self.__name\n",
    "\n",
    "    def get_score(self):\n",
    "        return self.__score\n",
    "\n",
    "bart = bart = Student('Bart Simpson', 59)\n",
    "\n",
    "print(bart.get_name()); print(bart.get_score())"
   ]
  },
  {
   "cell_type": "markdown",
   "metadata": {},
   "source": [
    "(4) 在访问限制下允许外部代码修改属性"
   ]
  },
  {
   "cell_type": "code",
   "execution_count": 49,
   "metadata": {},
   "outputs": [
    {
     "name": "stdout",
     "output_type": "stream",
     "text": [
      "修改前:      59\n",
      "修改后:      99\n"
     ]
    }
   ],
   "source": [
    "class Student(object):\n",
    "\n",
    "    def __init__(self, name, score):\n",
    "        self.__name = name\n",
    "        self.__score = score\n",
    "\n",
    "    def print_score(self):\n",
    "        print('%s: %s' % (self.__name, self.__score))\n",
    "\n",
    "    def get_name(self):\n",
    "        return self.__name\n",
    "\n",
    "    def get_score(self):\n",
    "        return self.__score\n",
    "\n",
    "    def set_score(self, score):\n",
    "        if 0 <= score <= 100:\n",
    "            self.__score = score\n",
    "        else:\n",
    "            raise ValueError('bad score')\n",
    "\n",
    "bart = bart = Student('Bart Simpson', 59)\n",
    "print('修改前:%8s'%(bart.get_score()))\n",
    "bart.set_score(99)\n",
    "print('修改后:%8s'%(bart.get_score()))"
   ]
  },
  {
   "cell_type": "markdown",
   "metadata": {},
   "source": [
    "(5) Note\n",
    "\n",
    "需要注意的是，在Python中，变量名类似__xxx__的，也就是以双下划线开头，并且以双下划线结尾的，是特殊变量，特殊变量是可以直接访问的，不是private变量，所以，不能用__name__、__score__这样的变量名。\n",
    "\n",
    "有些时候，你会看到以一个下划线开头的实例变量名，比如_name，这样的实例变量外部是可以访问的，但是，按照约定俗成的规定，当你看到这样的变量时，意思就是，“虽然我可以被访问，但是，请把我视为私有变量，不要随意访问”。\n",
    "\n",
    "双下划线开头的实例变量是不是一定不能从外部访问呢？其实也不是。不能直接访问__name是因为Python解释器对外把__name变量改成了_Student__name，所以，仍然可以通过_Student__name来访问__name变量\n"
   ]
  },
  {
   "cell_type": "markdown",
   "metadata": {},
   "source": [
    "(6) 一种错误写法"
   ]
  },
  {
   "cell_type": "code",
   "execution_count": 52,
   "metadata": {},
   "outputs": [
    {
     "name": "stdout",
     "output_type": "stream",
     "text": [
      "Bart Simpson\n",
      "New Name\n",
      "Bart Simpson\n"
     ]
    }
   ],
   "source": [
    "bart = Student('Bart Simpson', 59)\n",
    "print(bart.get_name())\n",
    "bart.__name = 'New Name'  # 并没有更改name属性的值，而是给实例绑定了一个__name属性\n",
    "print(bart.__name)\n",
    "print(bart.get_name())  # name属性值并没有改变"
   ]
  },
  {
   "cell_type": "markdown",
   "metadata": {},
   "source": [
    "第四小节: 继承和多态"
   ]
  },
  {
   "cell_type": "markdown",
   "metadata": {},
   "source": [
    "在OOP程序设计中，当我们定义一个class的时候，可以从某个现有的class继承, 新的class称为子类（Subclass），而被继承的class称为基类、父类或超类（Base class、Super class），子类可以获得父类的全部功能。\n",
    "\n",
    "继承可以把父类的所有功能都直接拿过来，这样就不必重零做起，子类只需要新增自己特有的方法，也可以把父类不适合的方法覆盖重写。"
   ]
  },
  {
   "cell_type": "code",
   "execution_count": 53,
   "metadata": {},
   "outputs": [
    {
     "name": "stdout",
     "output_type": "stream",
     "text": [
      "Animal is running...\n",
      "Animal is running...\n"
     ]
    }
   ],
   "source": [
    "# 一个例子\n",
    "\n",
    "class Animal(object):  # 父类\n",
    "    def run(self):\n",
    "        print('Animal is running...')\n",
    "\n",
    "class Dog(Animal):  # 子类\n",
    "    pass\n",
    "\n",
    "class Cat(Animal):  # 子类\n",
    "    pass\n",
    "\n",
    "dog = Dog()\n",
    "dog.run()\n",
    "\n",
    "cat = Cat()\n",
    "cat.run()"
   ]
  },
  {
   "cell_type": "markdown",
   "metadata": {},
   "source": [
    "(1) 子类中定义了与父类相同的方法时，子类的方法覆盖父类的方法。"
   ]
  },
  {
   "cell_type": "code",
   "execution_count": 55,
   "metadata": {},
   "outputs": [
    {
     "name": "stdout",
     "output_type": "stream",
     "text": [
      "Dog is running...\n",
      "Cat is running...\n"
     ]
    }
   ],
   "source": [
    "# 子类与父类都有run方法, 子类的run覆盖父类的run\n",
    "class Dog(Animal):\n",
    "\n",
    "    def run(self):\n",
    "        print('Dog is running...')\n",
    "\n",
    "class Cat(Animal):\n",
    "\n",
    "    def run(self):\n",
    "        print('Cat is running...')\n",
    "\n",
    "dog = Dog()\n",
    "dog.run()\n",
    "\n",
    "cat = Cat()\n",
    "cat.run()"
   ]
  },
  {
   "cell_type": "markdown",
   "metadata": {},
   "source": [
    "(2) 多态"
   ]
  },
  {
   "cell_type": "code",
   "execution_count": 58,
   "metadata": {},
   "outputs": [
    {
     "name": "stdout",
     "output_type": "stream",
     "text": [
      "True\n",
      "True\n",
      "True\n",
      "True\n",
      "False\n"
     ]
    }
   ],
   "source": [
    "a = list() # a是list类型\n",
    "b = Animal() # b是Animal类型\n",
    "c = Dog() # c是Dog类型\n",
    "print(isinstance(a, list)); print(isinstance(b, Animal)); print(isinstance(c, Dog))\n",
    "\n",
    "# c既是Animal, 又是Dog\n",
    "print(isinstance(c, Animal))\n",
    "\n",
    "# 子类的实例也属于父类，但反过来不行\n",
    "print(isinstance(b, Dog))"
   ]
  },
  {
   "cell_type": "markdown",
   "metadata": {},
   "source": [
    "(3) 多态的好处: 开闭原则\n",
    "\n",
    "对扩展开放：允许新增Animal子类；\n",
    "\n",
    "对修改封闭：不需要修改依赖Animal类型的run_twice()等函数。"
   ]
  },
  {
   "cell_type": "code",
   "execution_count": 59,
   "metadata": {},
   "outputs": [
    {
     "name": "stdout",
     "output_type": "stream",
     "text": [
      "Animal is running...\n",
      "Animal is running...\n",
      "Dog is running...\n",
      "Dog is running...\n",
      "Cat is running...\n",
      "Cat is running...\n",
      "Tortoise is running slowly...\n",
      "Tortoise is running slowly...\n"
     ]
    }
   ],
   "source": [
    "# 只要是Animal子类, 就都可以调用run_twice函数。\n",
    "# 其实对于Python而言, 只要实例有run方法, 就可以调用run_twice函数, 也就是不是必须要是“鸭子”, 而只需要长得像鸭子就行了\n",
    "\n",
    "def run_twice(animal):\n",
    "    animal.run()\n",
    "    animal.run()\n",
    "\n",
    "run_twice(Animal())\n",
    "\n",
    "run_twice(Dog())\n",
    "\n",
    "run_twice(Cat())\n",
    "\n",
    "class Tortoise(Animal):\n",
    "    def run(self):\n",
    "        print('Tortoise is running slowly...')\n",
    "\n",
    "run_twice(Tortoise())"
   ]
  },
  {
   "cell_type": "markdown",
   "metadata": {},
   "source": [
    "第五小节: 获取对象信息"
   ]
  },
  {
   "cell_type": "markdown",
   "metadata": {},
   "source": [
    "(1) 使用type()"
   ]
  },
  {
   "cell_type": "code",
   "execution_count": 65,
   "metadata": {},
   "outputs": [
    {
     "name": "stdout",
     "output_type": "stream",
     "text": [
      "# type函数返回对应的class类型\n",
      "<class 'int'>\n",
      "<class 'str'>\n",
      "<class 'NoneType'>\n",
      "<class 'builtin_function_or_method'>\n",
      "<class 'list'>\n",
      "### 比较两个变量的type类型是否相同\n",
      "True\n",
      "True\n",
      "True\n",
      "True\n",
      "False\n",
      "### 判断一个对象是否是函数\n",
      "True\n",
      "True\n",
      "True\n",
      "True\n"
     ]
    }
   ],
   "source": [
    "print('# type函数返回对应的class类型')\n",
    "\n",
    "print(type(123)); print(type('str')); print(type(None))\n",
    "print(type(abs)); print(type(a))  # abs是绝对值函数, a=list()\n",
    "\n",
    "\n",
    "print('### 比较两个变量的type类型是否相同')\n",
    "\n",
    "print(type(123)==type(456)); print(type(123)==int);\n",
    "print(type('abc')==type('123')); print(type('abc')==str);\n",
    "print(type('abc')==type(123))\n",
    "\n",
    "\n",
    "print('### 判断一个对象是否是函数')\n",
    "\n",
    "import types\n",
    "def fn():\n",
    "    pass\n",
    "print(type(fn)==types.FunctionType)\n",
    "print(type(abs)==types.BuiltinFunctionType)\n",
    "print(type(lambda x: x)==types.LambdaType)\n",
    "print(type((x for x in range(10)))==types.GeneratorType)"
   ]
  },
  {
   "cell_type": "markdown",
   "metadata": {},
   "source": [
    "(2) 使用instance()  # 优先使用"
   ]
  },
  {
   "cell_type": "code",
   "execution_count": 72,
   "metadata": {},
   "outputs": [
    {
     "name": "stdout",
     "output_type": "stream",
     "text": [
      "False True True\n",
      "True True True\n",
      "True\n"
     ]
    }
   ],
   "source": [
    "a = Animal()\n",
    "d = Dog()\n",
    "class Husky(Dog):\n",
    "    pass\n",
    "h = Husky()\n",
    "print(isinstance(d, Husky), isinstance(d, Dog), isinstance(d, Animal))\n",
    "print(isinstance(h, Husky), isinstance(h, Dog), isinstance(h, Animal))\n",
    "\n",
    "print(isinstance([1, 2, 3], (list, tuple)))  # 判断一个变量是否是某些类型中的一种"
   ]
  },
  {
   "cell_type": "markdown",
   "metadata": {},
   "source": [
    "(3) 使用dir()\n",
    "\n",
    "获得一个对象的所有属性和方法，返回一个包含字符串的list"
   ]
  },
  {
   "cell_type": "code",
   "execution_count": 76,
   "metadata": {},
   "outputs": [
    {
     "name": "stdout",
     "output_type": "stream",
     "text": [
      "['__add__', '__class__', '__contains__', '__delattr__', '__dir__', '__doc__', '__eq__', '__format__', '__ge__', '__getattribute__', '__getitem__', '__getnewargs__', '__gt__', '__hash__', '__init__', '__init_subclass__', '__iter__', '__le__', '__len__', '__lt__', '__mod__', '__mul__', '__ne__', '__new__', '__reduce__', '__reduce_ex__', '__repr__', '__rmod__', '__rmul__', '__setattr__', '__sizeof__', '__str__', '__subclasshook__', 'capitalize', 'casefold', 'center', 'count', 'encode', 'endswith', 'expandtabs', 'find', 'format', 'format_map', 'index', 'isalnum', 'isalpha', 'isascii', 'isdecimal', 'isdigit', 'isidentifier', 'islower', 'isnumeric', 'isprintable', 'isspace', 'istitle', 'isupper', 'join', 'ljust', 'lower', 'lstrip', 'maketrans', 'partition', 'replace', 'rfind', 'rindex', 'rjust', 'rpartition', 'rsplit', 'rstrip', 'split', 'splitlines', 'startswith', 'strip', 'swapcase', 'title', 'translate', 'upper', 'zfill']\n",
      "3 3\n"
     ]
    }
   ],
   "source": [
    "print(dir('ABC'))\n",
    "# 类似__xxx__的属性和方法在Python中都是有特殊用途的，比如__len__方法返回长度.\n",
    "# 在Python中，如果你调用len()函数试图获取一个对象的长度，实际上，在len()函数内部，它自动去调用该对象的__len__()方法.\n",
    "# 所以，下面的代码是等价的：\n",
    "print(len('ABC'), 'ABC'.__len__())"
   ]
  },
  {
   "cell_type": "markdown",
   "metadata": {},
   "source": [
    "(4) getattr()、setattr()以及hasattr()"
   ]
  },
  {
   "cell_type": "code",
   "execution_count": 87,
   "metadata": {},
   "outputs": [
    {
     "name": "stdout",
     "output_type": "stream",
     "text": [
      "### 获得对象的属性 ###\n",
      "True\n",
      "False\n",
      "True\n",
      "19\n",
      "19\n",
      "404\n",
      "### 获得对象的方法 ###\n",
      "True\n",
      "<bound method MyObject.power of <__main__.MyObject object at 0x0000020D9709DB50>>\n",
      "<bound method MyObject.power of <__main__.MyObject object at 0x0000020D9709DB50>>\n",
      "81\n"
     ]
    }
   ],
   "source": [
    "class MyObject(object):\n",
    "    def __init__(self):\n",
    "        self.x = 9\n",
    "    def power(self):\n",
    "        return self.x * self.x\n",
    "\n",
    "obj = MyObject()\n",
    "\n",
    "print('### 获得对象的属性 ###')\n",
    "\n",
    "print(hasattr(obj, 'x'))  # 有属性'x'吗？\n",
    "print(hasattr(obj, 'y'))  # 有属性'y'吗？\n",
    "setattr(obj, 'y', 19)  # 设置一个属性'y'\n",
    "print(hasattr(obj, 'y'))  # 有属性'y'吗？\n",
    "print(getattr(obj, 'y'))  # 获取属性'y'\n",
    "print(obj.y)  # 获取属性'y'\n",
    "\n",
    "\n",
    "# 如果试图获取不存在的属性, 会抛出AttributeError的错误, 可以设置一个默认参数, 若不存在就返回默认值.\n",
    "\n",
    "# getattr(obj, 'z') # 获取属性'z' # 会报错\n",
    "print(getattr(obj, 'z', 404)) # 获取属性'z'，如果不存在，返回默认值404\n",
    "\n",
    "print('### 获得对象的方法 ###')\n",
    "print(hasattr(obj, 'power'))  # 有属性'power'吗？\n",
    "print(getattr(obj, 'power'))  # 获取属性'power'\n",
    "fn = getattr(obj, 'power') # 获取属性'power'并赋值到变量fn\n",
    "print(fn)\n",
    "print(fn())"
   ]
  },
  {
   "cell_type": "markdown",
   "metadata": {},
   "source": [
    "第六小结: 实例属性和类属性\n",
    "\n",
    "实例可以获得类属性, 但若实例属性与类属性重名, 实例属性覆盖类属性."
   ]
  },
  {
   "cell_type": "code",
   "execution_count": 96,
   "metadata": {},
   "outputs": [
    {
     "name": "stdout",
     "output_type": "stream",
     "text": [
      "Student | Student\n",
      "Michael | Student\n",
      "Student\n"
     ]
    }
   ],
   "source": [
    "class Student(object):\n",
    "    name = 'Student'\n",
    "s = Student()\n",
    "\n",
    "print(s.name, '|', Student.name)  # 实例并没有name属性，所以会继续查找class的name属性\n",
    "\n",
    "s.name = 'Michael' # 给实例绑定name属性\n",
    "print(s.name, '|', Student.name)  # 实例属性优先级比类属性高，因此，它会屏蔽掉类的name属性\n",
    "\n",
    "del s.name  # 如果删除实例的name属性\n",
    "print(s.name)  # 再次调用s.name，由于实例的name属性没有找到，类的name属性就显示出来了"
   ]
  }
 ],
 "metadata": {
  "kernelspec": {
   "display_name": "Python 3.8.12 ('machine_learning')",
   "language": "python",
   "name": "python3"
  },
  "language_info": {
   "codemirror_mode": {
    "name": "ipython",
    "version": 3
   },
   "file_extension": ".py",
   "mimetype": "text/x-python",
   "name": "python",
   "nbconvert_exporter": "python",
   "pygments_lexer": "ipython3",
   "version": "3.8.12"
  },
  "orig_nbformat": 4,
  "vscode": {
   "interpreter": {
    "hash": "694b3be8ef148e6406b0fa093ac035d51aa0a82bbb7177cd58aa727bb34b790d"
   }
  }
 },
 "nbformat": 4,
 "nbformat_minor": 2
}
